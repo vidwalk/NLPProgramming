{
 "cells": [
  {
   "cell_type": "code",
   "execution_count": 1,
   "metadata": {},
   "outputs": [],
   "source": [
    "import glob\n",
    "import os"
   ]
  },
  {
   "cell_type": "markdown",
   "metadata": {},
   "source": [
    "This notebook will help you in merging multiple txt files. To do that you have to:\n",
    "1. Create the MergeTexts folder (You do it just the first time)\n",
    "2. Put the texts files you want to merge in that folder\n",
    "3. Rename the result with the desired name\n",
    "\n",
    "## The last cell will delete all the files in the MergeTexts folder besides the result.txt file, so you don't spend time cleaning too many files. Comment or delete it if you want to handle it yourself.\n",
    "### it is important to consider that if the file is too big, it might cause problems when trying to run the the NP and VP code. "
   ]
  },
  {
   "cell_type": "code",
   "execution_count": 2,
   "metadata": {},
   "outputs": [],
   "source": [
    "read_files = glob.glob(\"MergeTexts/*.txt\")\n",
    "\n",
    "with open(\"MergeTexts/result.txt\", \"wb\") as outfile:\n",
    "    for f in read_files:\n",
    "        with open(f, \"rb\") as infile:\n",
    "            outfile.write(infile.read())"
   ]
  },
  {
   "cell_type": "code",
   "execution_count": 4,
   "metadata": {},
   "outputs": [],
   "source": [
    "for root, dirs, files in os.walk(\"MergeTexts\"):\n",
    "            for file in files:\n",
    "                if 'result.txt' not in file:\n",
    "                    os.remove(os.path.join('MergeTexts',file))"
   ]
  }
 ],
 "metadata": {
  "kernelspec": {
   "display_name": "Python 3",
   "language": "python",
   "name": "python3"
  },
  "language_info": {
   "codemirror_mode": {
    "name": "ipython",
    "version": 3
   },
   "file_extension": ".py",
   "mimetype": "text/x-python",
   "name": "python",
   "nbconvert_exporter": "python",
   "pygments_lexer": "ipython3",
   "version": "3.7.2"
  }
 },
 "nbformat": 4,
 "nbformat_minor": 4
}
