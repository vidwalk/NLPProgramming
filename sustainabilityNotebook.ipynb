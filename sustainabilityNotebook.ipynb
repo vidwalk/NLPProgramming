{
 "cells": [
  {
   "cell_type": "code",
   "execution_count": 1,
   "metadata": {},
   "outputs": [],
   "source": [
    "import os\n",
    "from collections import defaultdict, Counter\n",
    "import csv\n",
    "import re\n",
    "import time\n",
    "import pandas as pd\n",
    "import ipywidgets as widget"
   ]
  },
  {
   "cell_type": "code",
   "execution_count": 2,
   "metadata": {},
   "outputs": [
    {
     "data": {
      "application/vnd.jupyter.widget-view+json": {
       "model_id": "378ad063e21d4707be5c549ff293a357",
       "version_major": 2,
       "version_minor": 0
      },
      "text/plain": [
       "Dropdown(description='Option:', index=4, options=('Economic', 'Environmental', 'Social', 'Sustainability', 'Al…"
      ]
     },
     "metadata": {},
     "output_type": "display_data"
    }
   ],
   "source": [
    "option = widget.Dropdown(options=['Economic', 'Environmental', 'Social', 'Sustainability', 'All'], value= 'All', description='Option:')\n",
    "display(option)"
   ]
  },
  {
   "cell_type": "code",
   "execution_count": 3,
   "metadata": {},
   "outputs": [],
   "source": [
    "typeOfDictionaries = ['Economic', 'Environmental', 'Social', 'Sustainability']"
   ]
  },
  {
   "cell_type": "code",
   "execution_count": 4,
   "metadata": {},
   "outputs": [],
   "source": [
    "def reg_tokenize(regFilter, text):\n",
    "    text = text.lower()\n",
    "    text = re.sub(r\"[^A-Za-z—\\-\\'\\’ ]\", ' ', text)\n",
    "    text = re.sub(r\"\\s+\", ' ', text)\n",
    "    words = re.findall(regFilter, text)\n",
    "    return words"
   ]
  },
  {
   "cell_type": "code",
   "execution_count": 5,
   "metadata": {},
   "outputs": [],
   "source": [
    "def findTxts(path):\n",
    "    result = list()\n",
    "    for root, dirs, files in os.walk(path):\n",
    "        for file in files:\n",
    "            if file.endswith('.txt'):\n",
    "                filePath = open('TextFiles/'+file,\n",
    "                                'r', encoding='utf-8')\n",
    "                text = filePath.read()\n",
    "                result.append(text)\n",
    "    return result"
   ]
  },
  {
   "cell_type": "code",
   "execution_count": 6,
   "metadata": {},
   "outputs": [],
   "source": [
    "def createPattern(type):\n",
    "    if type == 'Sustainability':\n",
    "        df = pd.DataFrame(columns=['words'])\n",
    "        for dictionaryName in [n for n in typeOfDictionaries if n != 'Sustainability']:\n",
    "            dfExtra = pd.read_excel(\"SustainabilityDictionaries\\\\\" + dictionaryName + \"dictionary.xlsx\", sheet_name='Ark1', names=['words'])\n",
    "            df = pd.concat([df, dfExtra], ignore_index=True)\n",
    "        wordList = df['words'].to_list()\n",
    "        return \"|\".join((wordList))\n",
    "    df = pd.read_excel(\n",
    "        \"SustainabilityDictionaries\\\\\" + type + \"dictionary.xlsx\", sheet_name='Ark1', names=['words'])\n",
    "    wordList = df['words'].to_list()\n",
    "    return \"\\\\b\"+ \"\\\\b|\\\\b\".join((wordList)) + \"\\\\b\""
   ]
  },
  {
   "cell_type": "markdown",
   "metadata": {},
   "source": [
    "Sustainability stands for all dictionaries in one."
   ]
  },
  {
   "cell_type": "code",
   "execution_count": 7,
   "metadata": {},
   "outputs": [
    {
     "name": "stdout",
     "output_type": "stream",
     "text": [
      "Wall time: 1min 49s\n"
     ]
    }
   ],
   "source": [
    "%%time\n",
    "if option.value == 'All':\n",
    "    for dictionaryName in typeOfDictionaries:\n",
    "        WORD = re.compile(createPattern(dictionaryName))\n",
    "        token_list = list()\n",
    "        for txtFile in findTxts('TextFiles'):\n",
    "            tokens = reg_tokenize(WORD, txtFile)\n",
    "            token_list.extend(tokens)\n",
    "        count = Counter(token_list)\n",
    "        with open(\"Counts/\" + dictionaryName + \"WordFreqDict.csv\", \"w+\", newline=\"\", encoding='utf-8') as csv_file:\n",
    "            csv_file.write(\"%s,%s\\n\" % ('word', 'count'))\n",
    "            for key, value in count.most_common():\n",
    "                csv_file.write(\"%s, %s\\n\" % (key, value))\n",
    "else:\n",
    "    WORD = re.compile(createPattern(option.value))\n",
    "    token_list = list()\n",
    "    for txtFile in findTxts('TextFiles'):\n",
    "        tokens = reg_tokenize(WORD, txtFile)\n",
    "        token_list.extend(tokens)\n",
    "    count = Counter(token_list)\n",
    "    with open(\"Counts/\" + option.value + \"WordFreqDict.csv\", \"w+\", newline=\"\", encoding='utf-8') as csv_file:\n",
    "        csv_file.write(\"%s,%s\\n\" % ('word', 'count'))\n",
    "        for key, value in count.most_common():\n",
    "            csv_file.write(\"%s, %s\\n\" % (key, value))"
   ]
  }
 ],
 "metadata": {
  "kernelspec": {
   "display_name": "Python 3.7.2 64-bit ('DataScience': virtualenv)",
   "language": "python",
   "name": "python37264bitdatasciencevirtualenv224f68aa715740b6a0e7e7fff6efefa4"
  },
  "language_info": {
   "codemirror_mode": {
    "name": "ipython",
    "version": 3
   },
   "file_extension": ".py",
   "mimetype": "text/x-python",
   "name": "python",
   "nbconvert_exporter": "python",
   "pygments_lexer": "ipython3",
   "version": "3.7.2"
  }
 },
 "nbformat": 4,
 "nbformat_minor": 4
}
