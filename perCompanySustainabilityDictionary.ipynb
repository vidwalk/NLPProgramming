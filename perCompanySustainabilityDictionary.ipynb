{
 "cells": [
  {
   "cell_type": "code",
   "execution_count": 1,
   "metadata": {},
   "outputs": [],
   "source": [
    "import os\n",
    "import csv\n",
    "import re\n",
    "import pandas as pd"
   ]
  },
  {
   "cell_type": "code",
   "execution_count": 2,
   "metadata": {},
   "outputs": [],
   "source": [
    "def cleanText(text):\n",
    "    '''\n",
    "    Function that receives a string. The transformation it applies on the string are the following:\n",
    "    1) Sets it to lowercase\n",
    "    2) Removes any characters except letters, —, -, ', ’, , and whitespaces\n",
    "    3) Replaces multiple whitespaces in just one\n",
    "\n",
    "    Parameters:\n",
    "    text - String\n",
    "\n",
    "    Output:\n",
    "    Cleaned String\n",
    "    '''\n",
    "\n",
    "    # text to lowercase\n",
    "    text = text.lower()\n",
    "    # keep only letters, -, ' and space\n",
    "    text = re.sub(r\"[^A-Za-z—\\-\\'\\’\\ ]\", ' ', text)\n",
    "    # replace multiple whitespace with just one\n",
    "    return re.sub(r\"\\s+\", ' ', text)"
   ]
  },
  {
   "cell_type": "code",
   "execution_count": 3,
   "metadata": {},
   "outputs": [],
   "source": [
    "#read the information in the excels into a dataframe\n",
    "dfEco = pd.read_excel(\n",
    "        \"SustainabilityDictionaries/Economicdictionary.xlsx\", header = None,sheet_name='Ark1', names=['words'])\n",
    "dfEnv = pd.read_excel(\n",
    "        \"SustainabilityDictionaries/Environmentaldictionary.xlsx\", header = None, sheet_name='Ark1', names=['words'])\n",
    "dfSoc = pd.read_excel(\n",
    "        \"SustainabilityDictionaries/Socialdictionary.xlsx\", header = None, sheet_name='Ark1', names=['words'])\n",
    "#extract the words in a list and then transform them into a pattern\n",
    "ecoPattern = \"\\\\b\" + \"\\\\b|\\\\b\".join(dfEco['words'].to_list())+\"\\\\b\"\n",
    "envPattern = \"\\\\b\" + \"\\\\b|\\\\b\".join(dfEnv['words'].to_list())+\"\\\\b\"\n",
    "socPattern = \"\\\\b\" + \"\\\\b|\\\\b\".join(dfSoc['words'].to_list())+\"\\\\b\"\n",
    "#prepare pattern\n",
    "ecoWORD = re.compile(ecoPattern)\n",
    "envWORD = re.compile(envPattern)\n",
    "socWORD = re.compile(socPattern)\n",
    "WORD = re.compile(r'[A-Za-z—\\-\\'\\’]+')"
   ]
  },
  {
   "cell_type": "code",
   "execution_count": 4,
   "metadata": {},
   "outputs": [
    {
     "name": "stdout",
     "output_type": "stream",
     "text": [
      "Wall time: 24.9 s\n"
     ]
    }
   ],
   "source": [
    "%%time\n",
    "#replace csv file if it already exists, otherwise create\n",
    "with open(\"Counts/CorporateSustainability.csv\", \"w+\", newline=\"\", encoding='utf-8') as csv_file:\n",
    "        #headers\n",
    "        csv_file.write(\"%s,%s,%s,%s\\n\" % ('file', 'Economic sustainability',\n",
    "                                          'Environmental sustainability', 'Social sustainability'))\n",
    "        #go through files\n",
    "        for root, dirs, files in os.walk(\"TextFiles\"):\n",
    "            for file in files:\n",
    "                if file.endswith('.txt'):\n",
    "                    filePath = open('TextFiles/'+file,\n",
    "                                    'r', encoding='utf-8')\n",
    "                    text = filePath.read()\n",
    "                    cleanedText = cleanText(text)\n",
    "                    #find the words and count them\n",
    "                    ecoTokens = len(re.findall(ecoWORD, cleanedText))\n",
    "                    envTokens = len(re.findall(envWORD, cleanedText))\n",
    "                    socTokens = len(re.findall(socWORD, cleanedText))\n",
    "                    #normalization factor\n",
    "                    totalTokens = len(re.findall(WORD, text))/500\n",
    "                    csv_file.write(\"%s, %.4f, %.4f, %.4f\\n\" % (\n",
    "                        file, round(ecoTokens/totalTokens, 4), round(envTokens/totalTokens, 4), round(socTokens/totalTokens, 4)))"
   ]
  }
 ],
 "metadata": {
  "kernelspec": {
   "display_name": "Python 3.7.2 64-bit ('DataScience': virtualenv)",
   "language": "python",
   "name": "python37264bitdatasciencevirtualenv224f68aa715740b6a0e7e7fff6efefa4"
  },
  "language_info": {
   "codemirror_mode": {
    "name": "ipython",
    "version": 3
   },
   "file_extension": ".py",
   "mimetype": "text/x-python",
   "name": "python",
   "nbconvert_exporter": "python",
   "pygments_lexer": "ipython3",
   "version": "3.7.2"
  }
 },
 "nbformat": 4,
 "nbformat_minor": 4
}
