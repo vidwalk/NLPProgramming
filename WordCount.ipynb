{
 "cells": [
  {
   "cell_type": "code",
   "execution_count": 1,
   "metadata": {},
   "outputs": [],
   "source": [
    "import os\n",
    "import csv\n",
    "import re\n",
    "import pandas as pd"
   ]
  },
  {
   "cell_type": "code",
   "execution_count": 2,
   "metadata": {},
   "outputs": [],
   "source": [
    "def cleanText(text):\n",
    "    '''\n",
    "    Function that receives a string. The transformation it applies on the string are the following:\n",
    "    1) Sets it to lowercase\n",
    "    2) Removes any characters except letters, —, -, ', ’, , and whitespaces\n",
    "    3) Replaces multiple whitespaces in just one\n",
    "\n",
    "    Parameters:\n",
    "    text - String\n",
    "\n",
    "    Output:\n",
    "    Cleaned String\n",
    "    '''\n",
    "\n",
    "    # text to lowercase\n",
    "    text = text.lower()\n",
    "    # keep only letters, -, ' and space\n",
    "    text = re.sub(r\"[^A-Za-z—\\-\\'\\’\\, ]\", ' ', text)\n",
    "    # replace multiple whitespace with just one\n",
    "    return re.sub(r\"\\s+\", ' ', text)"
   ]
  },
  {
   "cell_type": "code",
   "execution_count": 4,
   "metadata": {},
   "outputs": [
    {
     "name": "stdout",
     "output_type": "stream",
     "text": [
      "Wall time: 4.87 s\n"
     ]
    }
   ],
   "source": [
    "%%time\n",
    "WORD = re.compile(r'[A-Za-z—\\-\\'\\’]+')\n",
    "#replace csv file if it already exists, otherwise create\n",
    "with open(\"Counts/TotalWordCount.csv\", \"w+\", newline=\"\", encoding='utf-8') as csv_file:\n",
    "        #headers\n",
    "        csv_file.write(\"%s,%s\\n\" % ('file', 'TotalWordCount'))\n",
    "        #go through files\n",
    "        for root, dirs, files in os.walk(\"TextFiles\"):\n",
    "            for file in files:\n",
    "                if file.endswith('.txt'):\n",
    "                    filePath = open('TextFiles/'+file,'r', encoding='utf-8')\n",
    "                    text = filePath.read()\n",
    "                    cleanedText = cleanText(text)\n",
    "                    totalTokens = len(re.findall(WORD, text))\n",
    "                    csv_file.write(\"%s, %d\\n\" % (file, totalTokens))"
   ]
  }
 ],
 "metadata": {
  "kernelspec": {
   "display_name": "Python 3",
   "language": "python",
   "name": "python3"
  },
  "language_info": {
   "codemirror_mode": {
    "name": "ipython",
    "version": 3
   },
   "file_extension": ".py",
   "mimetype": "text/x-python",
   "name": "python",
   "nbconvert_exporter": "python",
   "pygments_lexer": "ipython3",
   "version": "3.7.2"
  }
 },
 "nbformat": 4,
 "nbformat_minor": 4
}
